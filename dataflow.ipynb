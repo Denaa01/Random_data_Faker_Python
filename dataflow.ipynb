{
 "cells": [
  {
   "cell_type": "code",
   "execution_count": null,
   "metadata": {},
   "outputs": [],
   "source": [
    "import datetime as dt\n",
    "from datetime import timedelta\n",
    "from airflow import DAG\n",
    "from airflow.operators.bash import BashOperator\n",
    "from airflow.operators.python import PythonOperator\n",
    "import pandas as pd"
   ]
  },
  {
   "cell_type": "code",
   "execution_count": null,
   "metadata": {},
   "outputs": [],
   "source": [
    "def CSVToJson(file_path, col):\n",
    "    df=pd.read_csv(file_path)\n",
    "    for i, r in df.iterrows():\n",
    "        print(r[col])\n",
    "    \n",
    "    df.to_json(\"fromAirFlow.json\", orient=\"records\")\n",
    "CSVToJson(\"mycsv.csv\", \"name\")"
   ]
  },
  {
   "cell_type": "code",
   "execution_count": null,
   "metadata": {},
   "outputs": [],
   "source": [
    "default_args={\n",
    "    \"owner\": \"dina\",\n",
    "    \"start_date\": dt.datetime(2023,7,27),\n",
    "    \"retries\": 1,\n",
    "    \"retry_delay\": dt.timedelta(minutes=5)\n",
    "}\n",
    "\n",
    "with DAG('MyCSVDAG',\n",
    "          default_args=default_args,\n",
    "          schedule= timedelta(minutes=5),\n",
    "          # \" 0 * * * * \", \n",
    "        ) as dag:\n",
    "    print_starting = BashOperator(task_id=\"starting\",\n",
    "                                  bash_command='echo \"I am Reading the CSV now ...\"'\n",
    "                                  )\n",
    "    CSVJson= PythonOperator(task_id=\"Converting_CSV_to_Json\",\n",
    "                            python_callable=CSVToJson\n",
    "                            )\n",
    "    print_starting.set_downstream(CSVJson)"
   ]
  }
 ],
 "metadata": {
  "language_info": {
   "name": "python"
  },
  "orig_nbformat": 4
 },
 "nbformat": 4,
 "nbformat_minor": 2
}
